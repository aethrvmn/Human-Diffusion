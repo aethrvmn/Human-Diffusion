{
 "cells": [
  {
   "cell_type": "markdown",
   "id": "8a69201b-c166-458f-a872-9acb284e0097",
   "metadata": {},
   "source": [
    "\n",
    "```python\n",
    "newPixels = np.array([])\n",
    "threshold = 10\n",
    "\n",
    "for pixel in tqdm(arr):\n",
    "    # if it looks like black, convert it to black\n",
    "    if pixel[0] <= threshold:\n",
    "        newPixel = (0, 0, 0)\n",
    "    # if it looks like white, convert it to white\n",
    "    else:\n",
    "        newPixel = (255, 255, 255)\n",
    "    newPixels = np.append(newPixels, newPixel)\n",
    "```\n",
    "\n",
    "    100%|██████████| 2407680/2407680 [1:04:41<00:00, 620.35it/s]\n",
    "\n"
   ]
  },
  {
   "cell_type": "code",
   "execution_count": null,
   "id": "cd8700b0-6f5c-4a1b-8266-2818a2c134c2",
   "metadata": {},
   "outputs": [],
   "source": []
  }
 ],
 "metadata": {
  "kernelspec": {
   "display_name": "Python 3 (ipykernel)",
   "language": "python",
   "name": "python3"
  },
  "language_info": {
   "codemirror_mode": {
    "name": "ipython",
    "version": 3
   },
   "file_extension": ".py",
   "mimetype": "text/x-python",
   "name": "python",
   "nbconvert_exporter": "python",
   "pygments_lexer": "ipython3",
   "version": "3.9.7"
  }
 },
 "nbformat": 4,
 "nbformat_minor": 5
}
